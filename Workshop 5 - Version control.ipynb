{
 "cells": [
  {
   "cell_type": "markdown",
   "id": "0eca322a-e2e8-40bd-8a2a-6d175363e25d",
   "metadata": {},
   "source": [
    "# Version control\n",
    "If you've ever used Dropbox or google docs then you will have used version control, perhaps without even realising it. We use this constantly in programming to keep track of code changes and as a way to save our progress.\n",
    "\n",
    "As detailed in the lecture, there are a range of tools for version control - we will make use of git. You should have registered with GitHub already, if not this next section is going to be __very__ hard."
   ]
  },
  {
   "cell_type": "markdown",
   "id": "6b081595-7282-4e3c-9876-6182c9810f8b",
   "metadata": {},
   "source": [
    "Go back to the anaconda-navigator and select the JupyterLab app:\n",
    "\n",
    "![jupyer lab app](jupyterlab.png)"
   ]
  },
  {
   "cell_type": "markdown",
   "id": "f57b89a5-f48c-4cb8-9b54-0930c6606ea2",
   "metadata": {},
   "source": [
    "This will open up the JupyterLab environment, which allows you to have multiple tabs open, including code files, notebooks and terminal sessions. The latter is a command-line interface to your computer, and is a natural and powerful way to work on a computer, but can take some practise if you are not familiar with this.\n",
    "\n",
    "We are going to use the terminal to use `git` for version control. The first step is to go to your GitHub page and create a new repository:\n",
    "\n",
    "![new repo](new_repo.png)"
   ]
  },
  {
   "cell_type": "markdown",
   "id": "ba94171e-9e07-4600-8048-0f9d41f41b38",
   "metadata": {},
   "source": [
    "### Setting up a repository\n",
    "\n",
    "Go ahead and fill in the details with the name and description for this workshop. This will create your repository similar to below:\n",
    "\n",
    "![a repo](a_repo.png)\n",
    "\n",
    "\n",
    "Go and click on the blue `<> Code` box to get the dropdown menu and copy the URL to your clipboard.\n",
    "\n",
    "\n",
    "![cloning a repo](clone_repo.png)\n",
    "\n",
    "The next step is to go back to your new JupyterLab open a new `Terminal` session inside:\n",
    "\n",
    "![open terminal](jupyterlab_app.png)\n",
    "\n",
    "I strongly recommend opening this in your Home drive so that you can keep track of this in the future."
   ]
  },
  {
   "cell_type": "markdown",
   "id": "34a9907b-f806-4190-b649-3330bee9bd58",
   "metadata": {},
   "source": [
    "### Cloning a repository\n",
    "\n",
    "Now type the following, and paste the URL that you copied from GitHub:\n",
    "\n",
    "`git clone <paste URL>` (the URL will be specific to your repository)\n",
    "\n",
    "![clone repo](git_clone.png)\n",
    "\n",
    "Hit Enter and this will clone your repository that you made. This doesn't contain anything, but it sets up the version control on your computer in the directory where you Terminal session is open."
   ]
  },
  {
   "cell_type": "markdown",
   "id": "bb25744f-1696-4728-95c3-aa08b6022628",
   "metadata": {},
   "source": [
    "### Using git\n",
    "\n",
    "While learning how to use git I strongly recommend keeping a git cheatsheet close by: https://training.github.com/downloads/github-git-cheat-sheet/. The series of commands can get confusing but the main ones you need to know are:\n",
    "\n",
    "```\n",
    "git add <file paths here>\n",
    "git commit -m 'useful message here'\n",
    "\n",
    "git pull\n",
    "git push\n",
    "```\n",
    "\n",
    "These commands are executed in order whenever you want to log your code changes on a repository. \n",
    "\n",
    "`git add` \"stages\" your changes and tells git that you are going to log the changes in the specific set of files on the `git add` command.\n",
    "\n",
    "`git commit -m 'message'` commits the changes to _your local repository_ - this means you can add and change things locally without affecting what is happening to your central repository on GitHub.\n",
    "\n",
    "`git pull` retrieves the latest version of the repository from GitHub. You will mostly be the only one working on these repos, but on many software projects there will be multiple team members making code contributions, so this is a good habit to get into.\n",
    "\n",
    "`git push` this sends your changes to the central repository and logs them.\n",
    "\n",
    "This process is also very useful if you need to switch machines and retrieve your code from the central GitHub repository - you can just pull in the changes you made elsewhere and keep working seamlessly.\n",
    "\n",
    "Now try this with your repository and the Python code file - but add in the new defensive programming features that you added.\n",
    "\n",
    "Once you've done that you will see that your GitHub page now contains the code file that you just added.\n",
    "\n",
    "![added to repo](populated_repo.png)\n",
    "\n",
    "__Exercise break__\n",
    "Spend a bit of time familiarsing yourself with git and GitHub - try adding some other code files. BEWARE - do not add large files (megabytes) as they can grow very quickly and block you from logging changes or new files. Therefore, the best practise is to add specific files, and the mantra is to submit little and often."
   ]
  },
  {
   "cell_type": "markdown",
   "id": "4de2633e-15da-4647-b550-6c12f2fe84d0",
   "metadata": {},
   "source": [
    "__Exercise break__\n",
    "Can you add all of your code from the Python programming part of the course to your own repository?"
   ]
  },
  {
   "cell_type": "markdown",
   "id": "6c713ece-be40-4ab4-baba-9cf30984eaff",
   "metadata": {},
   "source": [
    "__Final exercise__\n",
    "\n",
    "Send me your GitHub ID, if you haven't already. I will add you to the class GitHub team from where you can create your own repository for the final assignment: https://github.com/BT5511-BiocomputationProjects-2024. Your repository name should include your name and the year, i.e. 2024. I will make sure that you only have read/write access to your own code and not anyone elses."
   ]
  },
  {
   "cell_type": "code",
   "execution_count": 2,
   "id": "d8b722aa-cbe2-4b54-b942-957fce778682",
   "metadata": {},
   "outputs": [],
   "source": [
    "x = 2"
   ]
  },
  {
   "cell_type": "code",
   "execution_count": 4,
   "id": "e1c3048e-fb40-4358-a250-c08df20ed3ed",
   "metadata": {},
   "outputs": [
    {
     "name": "stdout",
     "output_type": "stream",
     "text": [
      "2\n"
     ]
    }
   ],
   "source": [
    "print(x)"
   ]
  },
  {
   "cell_type": "code",
   "execution_count": null,
   "id": "fc71c9fa-4f3f-4379-8a23-4e91f379ffbc",
   "metadata": {},
   "outputs": [],
   "source": []
  }
 ],
 "metadata": {
  "kernelspec": {
   "display_name": "Python 3 (ipykernel)",
   "language": "python",
   "name": "python3"
  },
  "language_info": {
   "codemirror_mode": {
    "name": "ipython",
    "version": 3
   },
   "file_extension": ".py",
   "mimetype": "text/x-python",
   "name": "python",
   "nbconvert_exporter": "python",
   "pygments_lexer": "ipython3",
   "version": "3.11.7"
  }
 },
 "nbformat": 4,
 "nbformat_minor": 5
}
